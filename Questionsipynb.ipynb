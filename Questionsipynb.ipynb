{
  "nbformat": 4,
  "nbformat_minor": 0,
  "metadata": {
    "colab": {
      "name": "Questionsipynb",
      "provenance": []
    },
    "kernelspec": {
      "name": "python3",
      "display_name": "Python 3"
    },
    "language_info": {
      "name": "python"
    }
  },
  "cells": [
    {
      "cell_type": "code",
      "execution_count": null,
      "metadata": {
        "colab": {
          "base_uri": "https://localhost:8080/"
        },
        "id": "0BbZWmbthZ3C",
        "outputId": "6b817f41-4bba-40c7-9c2e-cba74071d398"
      },
      "outputs": [
        {
          "output_type": "stream",
          "name": "stdout",
          "text": [
            "Enter how many numbers you want to enter: 5\n",
            "5\n",
            "4\n",
            "-8\n",
            "2\n",
            "45\n",
            "All positive numbers =  [5, 4, 2, 45]\n",
            "All negative numbers =  [-8]\n",
            "All numbers =  [5, 4, -8, 2, 45]\n"
          ]
        }
      ],
      "source": [
        "# Q1. Write a program to read a list of n integers(positive as well as negative).\n",
        "\n",
        "\n",
        "n = int(input(\"Enter how many numbers you want to enter: \"))\n",
        "# initialize empty lists\n",
        "arr=[]\n",
        "positive=[]\n",
        "negative=[]\n",
        "for i in range(n):\n",
        "    number=int(input())\n",
        "    arr.append(number)\n",
        "for i in range(n):\n",
        "    if arr[i]>=0 :\n",
        "        #if number is positive or zero than add it list\n",
        "        positive.append(arr[i])\n",
        "    else:\n",
        "        #if negative add to negative list\n",
        "        negative.append(arr[i])\n",
        "print(\"All positive numbers = \",positive)\n",
        "print(\"All negative numbers = \",negative)\n",
        "print(\"All numbers = \",arr)"
      ]
    },
    {
      "cell_type": "markdown",
      "source": [
        "Q WAP to read a lsit of element .modify this lsit so that it doesnot contain any duplicate elements."
      ],
      "metadata": {
        "id": "XCRS0qmoi0YZ"
      }
    },
    {
      "cell_type": "code",
      "source": [
        "\n",
        "# Python code to remove duplicate elements\n",
        "def Remove(duplicate):\n",
        "    final_list = []\n",
        "    for num in duplicate:\n",
        "        if num not in final_list:\n",
        "            final_list.append(num)\n",
        "    return final_list\n",
        "     \n",
        "# Driver Code\n",
        "duplicate = [2, 4, 10, 20, 5, 2, 20, 4]\n",
        "print(Remove(duplicate))"
      ],
      "metadata": {
        "colab": {
          "base_uri": "https://localhost:8080/"
        },
        "id": "u9jmqj6aj0Ya",
        "outputId": "fdf6699a-c5bd-488a-b807-02ceb0fc9f5b"
      },
      "execution_count": null,
      "outputs": [
        {
          "output_type": "stream",
          "name": "stdout",
          "text": [
            "[2, 4, 10, 20, 5]\n"
          ]
        }
      ]
    },
    {
      "cell_type": "markdown",
      "source": [
        "write a program to input names of n students and store them in a tuple."
      ],
      "metadata": {
        "id": "2_uheTI8mQ09"
      }
    },
    {
      "cell_type": "code",
      "source": [
        "def find( name):\n",
        "    if name in tup :\n",
        "        return name, \"is present in \",tup\n",
        "    else :\n",
        "        return name, \"is not present in \",tup\n",
        "    \n",
        "tup = eval( input (\"Enter a tuple containing name of student :-\"))\n",
        "nam = input(\"Enter the name of student :-\")\n",
        "\n",
        "print( find( nam ) )"
      ],
      "metadata": {
        "colab": {
          "base_uri": "https://localhost:8080/"
        },
        "id": "u-r6--5jk98C",
        "outputId": "50afb5e7-43d5-4fd3-8ce2-17abbfb47756"
      },
      "execution_count": null,
      "outputs": [
        {
          "output_type": "stream",
          "name": "stdout",
          "text": [
            "Enter a tuple containing name of student :-'a','b','c'\n",
            "Enter the name of student :-a\n",
            "('a', 'is present in ', ('a', 'b', 'c'))\n"
          ]
        }
      ]
    },
    {
      "cell_type": "markdown",
      "source": [
        "# Read n no. of email id."
      ],
      "metadata": {
        "id": "IKZNtyK7nGZ6"
      }
    },
    {
      "cell_type": "code",
      "source": [
        "\n",
        "\n",
        "n= int(input(\"Enter number of students : \"))\n",
        "\n",
        "list1=[]\n",
        "\n",
        "for i in range(n):\n",
        "\n",
        "    email=input(\"Enter email: \")\n",
        "\n",
        "    list1.append(email)\n",
        "\n",
        "tuple1=tuple(list1)\n",
        "\n",
        "names=[]\n",
        "\n",
        "domains=[]\n",
        "\n",
        "for i in tuple1:\n",
        "\n",
        "    name,domain = i.split(\"@\") #return list of strings break using the string in the argument\n",
        "\n",
        "    names.append(name) #build names list\n",
        "\n",
        "    domains.append(domain) #build domains list\n",
        "\n",
        "names = tuple(names)\n",
        "\n",
        "domains = tuple(domains)\n",
        "\n",
        "print(\"Names = \",names)\n",
        "\n",
        "print(\"Domains = \",domains)\n",
        "\n",
        "print(\"Tuple = \",tuple1)\n",
        "\n"
      ],
      "metadata": {
        "colab": {
          "base_uri": "https://localhost:8080/"
        },
        "id": "8JJdMEZhnQzZ",
        "outputId": "f8996406-eff6-4c7d-dfcc-a595eea9525a"
      },
      "execution_count": null,
      "outputs": [
        {
          "output_type": "stream",
          "name": "stdout",
          "text": [
            "Enter number of students : 3\n",
            "Enter email: abc@gmail.com\n",
            "Enter email: xyz@abc.com\n",
            "Enter email: qwe@123.com\n",
            "Names =  ('abc', 'xyz', 'qwe')\n",
            "Domains =  ('gmail.com', 'abc.com', '123.com')\n",
            "Tuple =  ('abc@gmail.com', 'xyz@abc.com', 'qwe@123.com')\n"
          ]
        }
      ]
    },
    {
      "cell_type": "markdown",
      "source": [
        "Write a Python program to create a dictionary from a string."
      ],
      "metadata": {
        "id": "ZsqYwDSooDZ1"
      }
    },
    {
      "cell_type": "code",
      "source": [
        "from collections import defaultdict, Counter\n",
        "str1 = 'w3resource' \n",
        "my_dict = {}\n",
        "for letter in str1:\n",
        "    my_dict[letter] = my_dict.get(letter, 0) + 1\n",
        "print(my_dict)"
      ],
      "metadata": {
        "id": "xnU-_nYnnTER",
        "colab": {
          "base_uri": "https://localhost:8080/"
        },
        "outputId": "24b7182d-1ff0-4999-ba5c-96963255d8e9"
      },
      "execution_count": 12,
      "outputs": [
        {
          "output_type": "stream",
          "name": "stdout",
          "text": [
            "{'w': 1, '3': 1, 'r': 2, 'e': 2, 's': 1, 'o': 1, 'u': 1, 'c': 1}\n"
          ]
        }
      ]
    },
    {
      "cell_type": "markdown",
      "source": [
        "Create a dict with name & marks of n students!"
      ],
      "metadata": {
        "id": "D04WCk3WpJEy"
      }
    },
    {
      "cell_type": "code",
      "source": [
        "no_of_std = int(input(\"Enter number of students: \"))  \n",
        "result = {}  \n",
        "for i in range(no_of_std):  \n",
        "   print(\"Enter Details of student No.\", i+1)  \n",
        "   roll_no = int(input(\"Roll No: \"))  \n",
        "   std_name = input(\"Student Name: \")  \n",
        "   marks = int(input(\"Marks: \"))  \n",
        "   result[roll_no] = [std_name, marks]    \n",
        "print(result)  \n",
        "# Display names of students who have got marks more than 75  \n",
        "for student in result:  \n",
        "   if result[student][1] > 75:  \n",
        "       print(\"Student's name who get more than 75 marks is/are\",(result[student][0]))"
      ],
      "metadata": {
        "colab": {
          "base_uri": "https://localhost:8080/"
        },
        "id": "-7nks1tNoI12",
        "outputId": "5badf772-96cf-4f68-aad9-9542d24605c3"
      },
      "execution_count": 16,
      "outputs": [
        {
          "output_type": "stream",
          "name": "stdout",
          "text": [
            "Enter number of students: 1\n",
            "Enter Details of student No. 1\n",
            "Student Name: j\n",
            "Marks: 90\n",
            "{}\n"
          ]
        }
      ]
    },
    {
      "cell_type": "code",
      "source": [
        ""
      ],
      "metadata": {
        "id": "A-L20Y9iomMu"
      },
      "execution_count": null,
      "outputs": []
    }
  ]
}